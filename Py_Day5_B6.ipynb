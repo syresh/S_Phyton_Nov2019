{
 "cells": [
  {
   "cell_type": "code",
   "execution_count": 6,
   "metadata": {},
   "outputs": [
    {
     "name": "stdout",
     "output_type": "stream",
     "text": [
      "['c1', 'c2', 'c3', 'c4', 'c5']\n",
      "['c5', 'c4', 'c3', 'c2', 'c1']\n"
     ]
    }
   ],
   "source": [
    "#organizing list\n",
    "cars = ['c1','c2','c3','c4','c5']\n",
    "cars.sort()\n",
    "print(cars)\n",
    "cars.sort (reverse=True)\n",
    "print(cars)"
   ]
  },
  {
   "cell_type": "code",
   "execution_count": 20,
   "metadata": {},
   "outputs": [
    {
     "name": "stdout",
     "output_type": "stream",
     "text": [
      " North States in India,UP\n",
      "UP\n",
      "TN\n",
      "KL\n",
      "MP\n",
      "PB\n",
      "TS\n"
     ]
    }
   ],
   "source": [
    "#Looping\n",
    "states = ['UP','TN','KL','MP','PB','TS']\n",
    "print(f\" North States in India,{states[0]}\")\n",
    "for st in states:\n",
    "    print(st)  # In for statement the next print should have indentation. Here st is the temp variable"
   ]
  },
  {
   "cell_type": "code",
   "execution_count": null,
   "metadata": {},
   "outputs": [],
   "source": []
  }
 ],
 "metadata": {
  "kernelspec": {
   "display_name": "Python 3",
   "language": "python",
   "name": "python3"
  },
  "language_info": {
   "codemirror_mode": {
    "name": "ipython",
    "version": 3
   },
   "file_extension": ".py",
   "mimetype": "text/x-python",
   "name": "python",
   "nbconvert_exporter": "python",
   "pygments_lexer": "ipython3",
   "version": "3.7.4"
  }
 },
 "nbformat": 4,
 "nbformat_minor": 2
}
