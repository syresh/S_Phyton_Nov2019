{
 "cells": [
  {
   "cell_type": "code",
   "execution_count": null,
   "metadata": {},
   "outputs": [],
   "source": [
    "#Py_Day4_B6"
   ]
  },
  {
   "cell_type": "code",
   "execution_count": 7,
   "metadata": {},
   "outputs": [
    {
     "name": "stdout",
     "output_type": "stream",
     "text": [
      "['Emp1', 'Emp2', 'Emp3', 'Emp4', 'Emp5']\n"
     ]
    }
   ],
   "source": [
    "Employee =['Emp1','Emp2','Emp3','Emp4','Emp5']\n",
    "\n",
    "print (Employee)"
   ]
  },
  {
   "cell_type": "code",
   "execution_count": 2,
   "metadata": {},
   "outputs": [
    {
     "data": {
      "text/plain": [
       "list"
      ]
     },
     "execution_count": 2,
     "metadata": {},
     "output_type": "execute_result"
    }
   ],
   "source": [
    "type (Employee)"
   ]
  },
  {
   "cell_type": "code",
   "execution_count": 4,
   "metadata": {},
   "outputs": [
    {
     "name": "stdout",
     "output_type": "stream",
     "text": [
      "Emp1\n",
      "Emp2\n",
      "Emp3\n",
      "Emp4\n",
      "Emp5\n"
     ]
    }
   ],
   "source": [
    "# Index positions in reverse order mean printing the Emp last one as first and so on. Check the below\n",
    "\n",
    "print(Employee[-5].title())   \n",
    "print(Employee[-4].title()) \n",
    "print(Employee[-3].title()) \n",
    "print(Employee[-2].title()) \n",
    "print(Employee[-1].title()) "
   ]
  },
  {
   "cell_type": "code",
   "execution_count": 11,
   "metadata": {},
   "outputs": [
    {
     "name": "stdout",
     "output_type": "stream",
     "text": [
      "1000\n",
      "2000\n",
      "3000\n",
      "4000\n",
      "5000\n"
     ]
    }
   ],
   "source": [
    "# Updating, removing and adding of elements in the list\n",
    "\n",
    "EmpSal = ('1000','2000','3000','4000','5000')\n",
    "\n",
    "print (EmpSal [0])\n",
    "print (EmpSal [1])\n",
    "print (EmpSal [2])\n",
    "print (EmpSal [3])\n",
    "print (EmpSal [4])"
   ]
  },
  {
   "cell_type": "code",
   "execution_count": 21,
   "metadata": {},
   "outputs": [
    {
     "name": "stdout",
     "output_type": "stream",
     "text": [
      "1000\n"
     ]
    }
   ],
   "source": [
    "print (EmpSal[0])"
   ]
  },
  {
   "cell_type": "code",
   "execution_count": 24,
   "metadata": {},
   "outputs": [
    {
     "ename": "TypeError",
     "evalue": "'tuple' object does not support item assignment",
     "output_type": "error",
     "traceback": [
      "\u001b[0;31m---------------------------------------------------------------------------\u001b[0m",
      "\u001b[0;31mTypeError\u001b[0m                                 Traceback (most recent call last)",
      "\u001b[0;32m<ipython-input-24-481f10676db3>\u001b[0m in \u001b[0;36m<module>\u001b[0;34m\u001b[0m\n\u001b[0;32m----> 1\u001b[0;31m \u001b[0mEmpSal\u001b[0m\u001b[0;34m[\u001b[0m\u001b[0;36m0\u001b[0m\u001b[0;34m]\u001b[0m\u001b[0;34m=\u001b[0m \u001b[0;34m[\u001b[0m\u001b[0;34m'e1'\u001b[0m\u001b[0;34m]\u001b[0m\u001b[0;34m\u001b[0m\u001b[0;34m\u001b[0m\u001b[0m\n\u001b[0m\u001b[1;32m      2\u001b[0m \u001b[0mprint\u001b[0m \u001b[0;34m(\u001b[0m\u001b[0mEmpSal\u001b[0m\u001b[0;34m)\u001b[0m\u001b[0;34m\u001b[0m\u001b[0;34m\u001b[0m\u001b[0m\n",
      "\u001b[0;31mTypeError\u001b[0m: 'tuple' object does not support item assignment"
     ]
    }
   ],
   "source": [
    "EmpSal[0]= ['e1']\n",
    "print (EmpSal)\n",
    "\n",
    "# Question: What is this tuple syntax ???"
   ]
  },
  {
   "cell_type": "code",
   "execution_count": 39,
   "metadata": {},
   "outputs": [
    {
     "name": "stdout",
     "output_type": "stream",
     "text": [
      "['emp1', 'emp2', 'emp3']\n",
      "['emp1', 'emp2', 'emp3', 'emp4']\n",
      "['emp1', 'emp2', 'emp3', 'emp4', 'fourth emp']\n",
      "['first emp', 'emp1', 'emp2', 'emp3', 'emp4', 'fourth emp']\n",
      "['first emp', 'emp1', 'emp2', 'emp3', 'emp4', 'please delete me', 'fourth emp']\n",
      "['first emp', 'emp1', 'emp2', 'emp3', 'emp4', 'fourth emp']\n",
      "['first emp', 'emp1', 'emp2', 'emp3', 'emp4']\n"
     ]
    }
   ],
   "source": [
    "Emp =['emp1','emp2','emp3']\n",
    "print (Emp)\n",
    "Emp.append('emp4')                # append will always add the element to the last\n",
    "print (Emp)\n",
    "Emp.insert(4,'fourth emp')        # insert can add element at the given index position\n",
    "print (Emp)\n",
    "Emp.insert(0,'first emp')\n",
    "print (Emp)\n",
    "Emp.insert(5,'please delete me')\n",
    "print (Emp)\n",
    "del Emp[5]                       # del will remove the element with the given index position\n",
    "print (Emp)\n",
    "Emp.pop()                        # pop() will remove the last element by default\n",
    "print (Emp)"
   ]
  },
  {
   "cell_type": "code",
   "execution_count": 40,
   "metadata": {},
   "outputs": [
    {
     "name": "stdout",
     "output_type": "stream",
     "text": [
      "['CSK', 'RR']\n"
     ]
    }
   ],
   "source": [
    "# Concept of slicing the elements in the list\n",
    "\n",
    "team = ['CSK','RR','SRH','KKR']\n",
    "print(team[0:2])                # 0:2 mean - starting with 0 index till 2, mean before 2nd index "
   ]
  },
  {
   "cell_type": "code",
   "execution_count": 41,
   "metadata": {},
   "outputs": [
    {
     "name": "stdout",
     "output_type": "stream",
     "text": [
      "['CSK', 'RR', 'SRH', 'KKR']\n"
     ]
    }
   ],
   "source": [
    "team = ['CSK','RR','SRH','KKR']\n",
    "print(team[0:4])                # 0:4 mean - starting with 0 index till 4, mean all elements, only 3 are there"
   ]
  },
  {
   "cell_type": "code",
   "execution_count": 42,
   "metadata": {},
   "outputs": [
    {
     "name": "stdout",
     "output_type": "stream",
     "text": [
      "['CSK', 'SRH']\n"
     ]
    }
   ],
   "source": [
    "team = ['CSK','RR','SRH','KKR']\n",
    "print(team[0:4:2])             # Step count :2 mean, skip 2"
   ]
  },
  {
   "cell_type": "code",
   "execution_count": 43,
   "metadata": {},
   "outputs": [
    {
     "name": "stdout",
     "output_type": "stream",
     "text": [
      "['CSK', 'RR', 'SRH', 'KKR']\n"
     ]
    }
   ],
   "source": [
    "team = ['CSK','RR','SRH','KKR']\n",
    "print(team[0:4:1])             # Step count :2 mean, skip 1"
   ]
  },
  {
   "cell_type": "code",
   "execution_count": 44,
   "metadata": {},
   "outputs": [
    {
     "name": "stdout",
     "output_type": "stream",
     "text": [
      "['CSK', 'KKR']\n"
     ]
    }
   ],
   "source": [
    "team = ['CSK','RR','SRH','KKR']\n",
    "print(team[0:4:3])             # Step count :2 mean, skip 3"
   ]
  },
  {
   "cell_type": "code",
   "execution_count": null,
   "metadata": {},
   "outputs": [],
   "source": []
  }
 ],
 "metadata": {
  "kernelspec": {
   "display_name": "Python 3",
   "language": "python",
   "name": "python3"
  },
  "language_info": {
   "codemirror_mode": {
    "name": "ipython",
    "version": 3
   },
   "file_extension": ".py",
   "mimetype": "text/x-python",
   "name": "python",
   "nbconvert_exporter": "python",
   "pygments_lexer": "ipython3",
   "version": "3.7.4"
  }
 },
 "nbformat": 4,
 "nbformat_minor": 2
}
