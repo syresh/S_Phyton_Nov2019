{
 "cells": [
  {
   "cell_type": "code",
   "execution_count": 1,
   "metadata": {},
   "outputs": [
    {
     "name": "stdout",
     "output_type": "stream",
     "text": [
      "Day 2 _ Nov 6 Class\n"
     ]
    }
   ],
   "source": [
    "print('Day 2 _ Nov 6 Class')"
   ]
  },
  {
   "cell_type": "code",
   "execution_count": 8,
   "metadata": {},
   "outputs": [
    {
     "name": "stdout",
     "output_type": "stream",
     "text": [
      "John Paul\n"
     ]
    }
   ],
   "source": [
    "# Example of Employee pay roll\n",
    "\n",
    "Emp1 ='John Paul'\n",
    "Emp2='Cheery May'\n",
    "Emp3='Deena Dust'\n",
    "\n",
    "print (Emp1)"
   ]
  },
  {
   "cell_type": "code",
   "execution_count": 9,
   "metadata": {},
   "outputs": [
    {
     "name": "stdout",
     "output_type": "stream",
     "text": [
      "Mike Tucker\n"
     ]
    }
   ],
   "source": [
    "print (Emp2.title())"
   ]
  },
  {
   "cell_type": "code",
   "execution_count": 10,
   "metadata": {},
   "outputs": [
    {
     "name": "stdout",
     "output_type": "stream",
     "text": [
      "LEE BI\n"
     ]
    }
   ],
   "source": [
    "print (Emp3.upper())"
   ]
  },
  {
   "cell_type": "code",
   "execution_count": null,
   "metadata": {},
   "outputs": [],
   "source": [
    "# Question: I see a difference of Emp2 , Emp3 names in definition and print. From where is it taking the new values and why?\n"
   ]
  },
  {
   "cell_type": "code",
   "execution_count": 11,
   "metadata": {},
   "outputs": [],
   "source": [
    "# Concept of f strings:\n",
    "\n",
    "All_Emp = f\"{Emp1} {Emp2} {Emp3}\""
   ]
  },
  {
   "cell_type": "code",
   "execution_count": 12,
   "metadata": {},
   "outputs": [
    {
     "name": "stdout",
     "output_type": "stream",
     "text": [
      "John Paul Mike Tucker Lee Bi\n"
     ]
    }
   ],
   "source": [
    "print(All_Emp)"
   ]
  },
  {
   "cell_type": "code",
   "execution_count": null,
   "metadata": {},
   "outputs": [],
   "source": [
    "All_Emp = f\"{Emp1}, {Emp2}, {Emp3}\""
   ]
  },
  {
   "cell_type": "code",
   "execution_count": 13,
   "metadata": {},
   "outputs": [
    {
     "name": "stdout",
     "output_type": "stream",
     "text": [
      "John Paul Mike Tucker Lee Bi\n"
     ]
    }
   ],
   "source": [
    "print(All_Emp)"
   ]
  },
  {
   "cell_type": "code",
   "execution_count": null,
   "metadata": {},
   "outputs": [],
   "source": [
    "# Question: Why is not throwing error when , is used in the f string syntax ?"
   ]
  },
  {
   "cell_type": "code",
   "execution_count": 14,
   "metadata": {},
   "outputs": [
    {
     "name": "stdout",
     "output_type": "stream",
     "text": [
      " Emp1 \n"
     ]
    }
   ],
   "source": [
    "print(' Emp1 ')"
   ]
  },
  {
   "cell_type": "code",
   "execution_count": 15,
   "metadata": {},
   "outputs": [
    {
     "name": "stdout",
     "output_type": "stream",
     "text": [
      "Employees: \n",
      "Emp1 \n",
      "Emp2 \n",
      "Emp3\n"
     ]
    }
   ],
   "source": [
    "print('Employees: \\nEmp1 \\nEmp2 \\nEmp3')"
   ]
  },
  {
   "cell_type": "code",
   "execution_count": 17,
   "metadata": {},
   "outputs": [
    {
     "name": "stdout",
     "output_type": "stream",
     "text": [
      "Employees: \n",
      "Emp1 \tEmp2 \tEmp3\n"
     ]
    }
   ],
   "source": [
    "print('Employees: \\nEmp1 \\tEmp2 \\tEmp3')"
   ]
  },
  {
   "cell_type": "code",
   "execution_count": 19,
   "metadata": {},
   "outputs": [
    {
     "ename": "SyntaxError",
     "evalue": "invalid syntax (<ipython-input-19-c6745304e05e>, line 4)",
     "output_type": "error",
     "traceback": [
      "\u001b[0;36m  File \u001b[0;32m\"<ipython-input-19-c6745304e05e>\"\u001b[0;36m, line \u001b[0;32m4\u001b[0m\n\u001b[0;31m    print('Employees: \\n'Emp1' \\n'Emp2' \\n'Emp3'')\u001b[0m\n\u001b[0m                            ^\u001b[0m\n\u001b[0;31mSyntaxError\u001b[0m\u001b[0;31m:\u001b[0m invalid syntax\n"
     ]
    }
   ],
   "source": [
    "Emp1 ='John Paul'\n",
    "Emp2='Cheery May'\n",
    "Emp3='Deena Dust'\n",
    "print('Employees: \\n'Emp1' \\n'Emp2' \\n'Emp3'')"
   ]
  },
  {
   "cell_type": "code",
   "execution_count": null,
   "metadata": {},
   "outputs": [],
   "source": [
    "#Question: How do I print the names of Emp1,2,3 all together in one statement ?"
   ]
  },
  {
   "cell_type": "code",
   "execution_count": 23,
   "metadata": {},
   "outputs": [
    {
     "data": {
      "text/plain": [
       "<function str.strip(chars=None, /)>"
      ]
     },
     "execution_count": 23,
     "metadata": {},
     "output_type": "execute_result"
    }
   ],
   "source": [
    "Emp1 ='John Paul'\n",
    "Emp2='Cheery May'\n",
    "Emp3='Deena Dust'\n",
    "\n",
    "Emp1.rstrip()\n",
    "\n",
    "Emp2.lstrip()\n",
    "\n",
    "Emp3.strip"
   ]
  },
  {
   "cell_type": "code",
   "execution_count": null,
   "metadata": {},
   "outputs": [],
   "source": [
    "# Question: What is the above error mean ?"
   ]
  },
  {
   "cell_type": "code",
   "execution_count": null,
   "metadata": {},
   "outputs": [],
   "source": []
  }
 ],
 "metadata": {
  "kernelspec": {
   "display_name": "Python 3",
   "language": "python",
   "name": "python3"
  },
  "language_info": {
   "codemirror_mode": {
    "name": "ipython",
    "version": 3
   },
   "file_extension": ".py",
   "mimetype": "text/x-python",
   "name": "python",
   "nbconvert_exporter": "python",
   "pygments_lexer": "ipython3",
   "version": "3.7.4"
  }
 },
 "nbformat": 4,
 "nbformat_minor": 2
}
