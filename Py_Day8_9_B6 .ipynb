{
 "cells": [
  {
   "cell_type": "code",
   "execution_count": 26,
   "metadata": {},
   "outputs": [],
   "source": [
    "# Functions in python\n",
    "\n",
    "\n",
    "def flats(username):\n",
    "    \"\"\" This helps to tell who is living in which floor \"\"\"\n",
    "    print(f\"This is to inform, {username.title()} is working in Waverock \")"
   ]
  },
  {
   "cell_type": "code",
   "execution_count": 27,
   "metadata": {},
   "outputs": [
    {
     "name": "stdout",
     "output_type": "stream",
     "text": [
      "This is to inform, Sirish is working in Waverock \n"
     ]
    }
   ],
   "source": [
    "flats('sirish')"
   ]
  },
  {
   "cell_type": "code",
   "execution_count": 28,
   "metadata": {},
   "outputs": [
    {
     "name": "stdout",
     "output_type": "stream",
     "text": [
      "This is to inform, Paul is working in Waverock \n"
     ]
    }
   ],
   "source": [
    "flats('Paul')"
   ]
  },
  {
   "cell_type": "code",
   "execution_count": 30,
   "metadata": {},
   "outputs": [
    {
     "name": "stdout",
     "output_type": "stream",
     "text": [
      "This is to inform, Berry is working in Waverock \n"
     ]
    }
   ],
   "source": [
    "flats('Berry')"
   ]
  },
  {
   "cell_type": "code",
   "execution_count": 39,
   "metadata": {},
   "outputs": [],
   "source": [
    "\n",
    "def flats(username, floor):\n",
    "    \"\"\" This is a function which will displays the users in each floor\"\"\"\n",
    "    print(f\"{username.title()} is a resident\")\n",
    "    print(f\"My name is {username.title()} living in the {floor}\")"
   ]
  },
  {
   "cell_type": "code",
   "execution_count": 40,
   "metadata": {},
   "outputs": [
    {
     "name": "stdout",
     "output_type": "stream",
     "text": [
      "Sirish is a resident\n",
      "My name is Sirish living in the firstfloor\n"
     ]
    }
   ],
   "source": [
    "flats('sirish','first floor')    #positional args"
   ]
  },
  {
   "cell_type": "code",
   "execution_count": 41,
   "metadata": {},
   "outputs": [
    {
     "name": "stdout",
     "output_type": "stream",
     "text": [
      "Harry is a resident\n",
      "My name is Harry living in the Second Floor\n"
     ]
    }
   ],
   "source": [
    "flats('Harry','Second Floor') #positional args"
   ]
  },
  {
   "cell_type": "code",
   "execution_count": 44,
   "metadata": {},
   "outputs": [
    {
     "name": "stdout",
     "output_type": "stream",
     "text": [
      "Tom is a resident\n",
      "My name is Tom living in the 17th Floor\n"
     ]
    }
   ],
   "source": [
    "flats('Tom','17th Floor') #positional args"
   ]
  },
  {
   "cell_type": "code",
   "execution_count": 45,
   "metadata": {},
   "outputs": [
    {
     "name": "stdout",
     "output_type": "stream",
     "text": [
      "3Rd Floor is a resident\n",
      "My name is 3Rd Floor living in the Khan\n"
     ]
    }
   ],
   "source": [
    "flats('3rd floor','Khan')  #Exmaple of Wrong position args"
   ]
  },
  {
   "cell_type": "code",
   "execution_count": 46,
   "metadata": {},
   "outputs": [
    {
     "name": "stdout",
     "output_type": "stream",
     "text": [
      "Khan is a resident\n",
      "My name is Khan living in the 3Rd floor\n"
     ]
    }
   ],
   "source": [
    "flats(username='Khan',floor='3Rd floor') #Keyword args"
   ]
  },
  {
   "cell_type": "code",
   "execution_count": null,
   "metadata": {},
   "outputs": [],
   "source": []
  }
 ],
 "metadata": {
  "kernelspec": {
   "display_name": "Python 3",
   "language": "python",
   "name": "python3"
  },
  "language_info": {
   "codemirror_mode": {
    "name": "ipython",
    "version": 3
   },
   "file_extension": ".py",
   "mimetype": "text/x-python",
   "name": "python",
   "nbconvert_exporter": "python",
   "pygments_lexer": "ipython3",
   "version": "3.7.4"
  }
 },
 "nbformat": 4,
 "nbformat_minor": 2
}
